{
 "cells": [
  {
   "cell_type": "code",
   "execution_count": 2,
   "id": "4c3cd4b3-76f7-4355-aeb5-b17d273afa54",
   "metadata": {
    "tags": []
   },
   "outputs": [],
   "source": [
    "import pandas as pd\n",
    "import numpy as np\n",
    "from sklearn import preprocessing \n",
    "from sklearn import neighbors\n",
    "from sklearn.model_selection import train_test_split\n",
    "from sklearn.preprocessing import StandardScaler, LabelEncoder\n",
    "from sklearn.neighbors import KNeighborsClassifier\n",
    "from sklearn.metrics import classification_report, confusion_matrix, accuracy_score\n",
    "\n"
   ]
  },
  {
   "cell_type": "code",
   "execution_count": 3,
   "id": "f6a35d38-2941-4feb-96d9-37078a666a89",
   "metadata": {
    "tags": []
   },
   "outputs": [
    {
     "data": {
      "text/html": [
       "<div>\n",
       "<style scoped>\n",
       "    .dataframe tbody tr th:only-of-type {\n",
       "        vertical-align: middle;\n",
       "    }\n",
       "\n",
       "    .dataframe tbody tr th {\n",
       "        vertical-align: top;\n",
       "    }\n",
       "\n",
       "    .dataframe thead th {\n",
       "        text-align: right;\n",
       "    }\n",
       "</style>\n",
       "<table border=\"1\" class=\"dataframe\">\n",
       "  <thead>\n",
       "    <tr style=\"text-align: right;\">\n",
       "      <th></th>\n",
       "      <th>Age</th>\n",
       "      <th>Gender</th>\n",
       "      <th>Air Pollution</th>\n",
       "      <th>Alcohol Usage</th>\n",
       "      <th>Genetic Risk</th>\n",
       "      <th>Lung Disease</th>\n",
       "      <th>Obesity</th>\n",
       "      <th>Smoking</th>\n",
       "      <th>Passive Smoker</th>\n",
       "      <th>Chest Pain</th>\n",
       "      <th>Coughing of Blood</th>\n",
       "      <th>Severity</th>\n",
       "    </tr>\n",
       "  </thead>\n",
       "  <tbody>\n",
       "    <tr>\n",
       "      <th>0</th>\n",
       "      <td>33</td>\n",
       "      <td>1</td>\n",
       "      <td>2</td>\n",
       "      <td>4</td>\n",
       "      <td>3</td>\n",
       "      <td>2</td>\n",
       "      <td>4</td>\n",
       "      <td>3</td>\n",
       "      <td>2</td>\n",
       "      <td>2</td>\n",
       "      <td>4</td>\n",
       "      <td>0</td>\n",
       "    </tr>\n",
       "    <tr>\n",
       "      <th>1</th>\n",
       "      <td>17</td>\n",
       "      <td>1</td>\n",
       "      <td>3</td>\n",
       "      <td>1</td>\n",
       "      <td>4</td>\n",
       "      <td>2</td>\n",
       "      <td>2</td>\n",
       "      <td>2</td>\n",
       "      <td>4</td>\n",
       "      <td>2</td>\n",
       "      <td>3</td>\n",
       "      <td>1</td>\n",
       "    </tr>\n",
       "    <tr>\n",
       "      <th>2</th>\n",
       "      <td>35</td>\n",
       "      <td>1</td>\n",
       "      <td>4</td>\n",
       "      <td>5</td>\n",
       "      <td>5</td>\n",
       "      <td>4</td>\n",
       "      <td>7</td>\n",
       "      <td>2</td>\n",
       "      <td>3</td>\n",
       "      <td>4</td>\n",
       "      <td>8</td>\n",
       "      <td>2</td>\n",
       "    </tr>\n",
       "    <tr>\n",
       "      <th>3</th>\n",
       "      <td>37</td>\n",
       "      <td>1</td>\n",
       "      <td>7</td>\n",
       "      <td>7</td>\n",
       "      <td>6</td>\n",
       "      <td>7</td>\n",
       "      <td>7</td>\n",
       "      <td>7</td>\n",
       "      <td>7</td>\n",
       "      <td>7</td>\n",
       "      <td>8</td>\n",
       "      <td>2</td>\n",
       "    </tr>\n",
       "    <tr>\n",
       "      <th>4</th>\n",
       "      <td>46</td>\n",
       "      <td>1</td>\n",
       "      <td>6</td>\n",
       "      <td>8</td>\n",
       "      <td>7</td>\n",
       "      <td>6</td>\n",
       "      <td>7</td>\n",
       "      <td>8</td>\n",
       "      <td>7</td>\n",
       "      <td>7</td>\n",
       "      <td>9</td>\n",
       "      <td>2</td>\n",
       "    </tr>\n",
       "  </tbody>\n",
       "</table>\n",
       "</div>"
      ],
      "text/plain": [
       "   Age  Gender  Air Pollution  Alcohol Usage  Genetic Risk  Lung Disease  \\\n",
       "0   33       1              2              4             3             2   \n",
       "1   17       1              3              1             4             2   \n",
       "2   35       1              4              5             5             4   \n",
       "3   37       1              7              7             6             7   \n",
       "4   46       1              6              8             7             6   \n",
       "\n",
       "   Obesity  Smoking  Passive Smoker  Chest Pain  Coughing of Blood  Severity  \n",
       "0        4        3               2           2                  4         0  \n",
       "1        2        2               4           2                  3         1  \n",
       "2        7        2               3           4                  8         2  \n",
       "3        7        7               7           7                  8         2  \n",
       "4        7        8               7           7                  9         2  "
      ]
     },
     "execution_count": 3,
     "metadata": {},
     "output_type": "execute_result"
    }
   ],
   "source": [
    "df = pd.read_csv(\"/Users/myronmoskalyk/Library/CloudStorage/OneDrive-UniversityofToronto/Lectures/Applied Machine Learning/LungDS.csv\")\n",
    "df.head()"
   ]
  },
  {
   "cell_type": "code",
   "execution_count": 4,
   "id": "c3af13e1-d4d8-4b40-afb9-99d8d8c74ac8",
   "metadata": {},
   "outputs": [
    {
     "data": {
      "text/html": [
       "<div>\n",
       "<style scoped>\n",
       "    .dataframe tbody tr th:only-of-type {\n",
       "        vertical-align: middle;\n",
       "    }\n",
       "\n",
       "    .dataframe tbody tr th {\n",
       "        vertical-align: top;\n",
       "    }\n",
       "\n",
       "    .dataframe thead th {\n",
       "        text-align: right;\n",
       "    }\n",
       "</style>\n",
       "<table border=\"1\" class=\"dataframe\">\n",
       "  <thead>\n",
       "    <tr style=\"text-align: right;\">\n",
       "      <th></th>\n",
       "      <th>Age</th>\n",
       "      <th>Alcohol Usage</th>\n",
       "      <th>Obesity</th>\n",
       "      <th>Smoking</th>\n",
       "    </tr>\n",
       "  </thead>\n",
       "  <tbody>\n",
       "    <tr>\n",
       "      <th>0</th>\n",
       "      <td>33</td>\n",
       "      <td>4</td>\n",
       "      <td>4</td>\n",
       "      <td>3</td>\n",
       "    </tr>\n",
       "    <tr>\n",
       "      <th>1</th>\n",
       "      <td>17</td>\n",
       "      <td>1</td>\n",
       "      <td>2</td>\n",
       "      <td>2</td>\n",
       "    </tr>\n",
       "    <tr>\n",
       "      <th>2</th>\n",
       "      <td>35</td>\n",
       "      <td>5</td>\n",
       "      <td>7</td>\n",
       "      <td>2</td>\n",
       "    </tr>\n",
       "    <tr>\n",
       "      <th>3</th>\n",
       "      <td>37</td>\n",
       "      <td>7</td>\n",
       "      <td>7</td>\n",
       "      <td>7</td>\n",
       "    </tr>\n",
       "    <tr>\n",
       "      <th>4</th>\n",
       "      <td>46</td>\n",
       "      <td>8</td>\n",
       "      <td>7</td>\n",
       "      <td>8</td>\n",
       "    </tr>\n",
       "  </tbody>\n",
       "</table>\n",
       "</div>"
      ],
      "text/plain": [
       "   Age  Alcohol Usage  Obesity  Smoking\n",
       "0   33              4        4        3\n",
       "1   17              1        2        2\n",
       "2   35              5        7        2\n",
       "3   37              7        7        7\n",
       "4   46              8        7        8"
      ]
     },
     "execution_count": 4,
     "metadata": {},
     "output_type": "execute_result"
    }
   ],
   "source": [
    "# Split data into features and label\n",
    "X = df[['Age', 'Alcohol Usage', 'Obesity', 'Smoking']]\n",
    "y = df['Severity']\n",
    "\n",
    "# Split data into training and testing sets\n",
    "X_train, X_test, y_train, y_test = train_test_split(X, y, test_size=0.2, random_state=42)\n",
    "\n",
    "\"\"\"\n",
    "\n",
    "Note1: test_size=0.2: This parameter determines the proportion of the dataset to include in the test\n",
    "split. In this case, 20% of the data will be used for testing and the remaining 80% will be used for training.\n",
    "\n",
    "Note2: random_state=42: This parameter is used to seed the random number generator.\n",
    "By setting a specific value (like 42), the split will be reproducible. If you run the code multiple times\n",
    "with the same random_state, you'll get the same train/test split. This is useful for ensuring consistency across runs.\n",
    "\n",
    "\"\"\"\n",
    "\n",
    "X.head()"
   ]
  },
  {
   "cell_type": "code",
   "execution_count": 5,
   "id": "3f9c6959-fce4-470c-a589-36c6ad5dd2b2",
   "metadata": {
    "tags": []
   },
   "outputs": [
    {
     "data": {
      "text/plain": [
       "' \\n\\nNote 1: StandardScaler standardizes features by removing the mean and scaling to unit variance. \\n\\nNote 2: While the train set has both fit and transform used on it, the test set only has transform \\nused on it because you should always use the scaling parameters learned from the training set to scale the testing set (or any new data).\\nThis ensures that the model sees the same distribution during training and testing\\n\\n'"
      ]
     },
     "execution_count": 5,
     "metadata": {},
     "output_type": "execute_result"
    }
   ],
   "source": [
    "# Scale the features\n",
    "scaler = StandardScaler() # Assign an instance of the StandardScaler class and assign it to the var \"scaler\"\n",
    "X_train = scaler.fit_transform(X_train) # Two things happen: fit = Scaler learns the mean and SD from the training data; transform = Scaler uses the learned parameters to scale the training data\n",
    "X_test = scaler.transform(X_test) # The Scaler uses the learned parameters to scale the training data\n",
    "\n",
    "\"\"\" \n",
    "\n",
    "Note 1: StandardScaler standardizes features by removing the mean and scaling to unit variance. \n",
    "\n",
    "Note 2: While the train set has both fit and transform used on it, the test set only has transform \n",
    "used on it because you should always use the scaling parameters learned from the training set to scale the testing set (or any new data).\n",
    "This ensures that the model sees the same distribution during training and testing\n",
    "\n",
    "\"\"\""
   ]
  },
  {
   "cell_type": "code",
   "execution_count": 6,
   "id": "76d9321c-42eb-4055-8b61-59ef1e444d36",
   "metadata": {
    "tags": []
   },
   "outputs": [
    {
     "name": "stdout",
     "output_type": "stream",
     "text": [
      "The length of the dataframe is: 1465\n",
      "The max K value is: 38\n",
      "1\n"
     ]
    }
   ],
   "source": [
    "def accuracy(k, X_train, y_train, X_test, y_test):\n",
    "    '''\n",
    "    compute accuracy of the classification based on k values \n",
    "    '''\n",
    "    # use an instance of the learning model and fit data\n",
    "    knn = KNeighborsClassifier(n_neighbors=k)    \n",
    "    knn.fit(X_train, y_train)\n",
    "\n",
    "    # predict the response\n",
    "    pred = knn.predict(X_test)\n",
    "\n",
    "    # evaluate and return  accuracy\n",
    "    return accuracy_score(y_test, pred)\n",
    "\n",
    "\n",
    "# Calculate the maximum k value as the square root of rows_nbr\n",
    "max_k = int(np.sqrt(df.shape[0]))\n",
    "print (\"The length of the dataframe is: \" + str(df.shape[0]))\n",
    "print (\"The max K value is: \" + str(max_k))\n",
    "best_n_neighbours = np.argmax(np.array([accuracy(k, X_train, y_train, X_test, y_test) for k in range(1, max_k + 1)])) + 1\n",
    "print (best_n_neighbours)\n"
   ]
  },
  {
   "cell_type": "code",
   "execution_count": 7,
   "id": "3fbbcb33-4d95-478e-91d5-4152999ae922",
   "metadata": {
    "tags": []
   },
   "outputs": [
    {
     "name": "stdout",
     "output_type": "stream",
     "text": [
      "[[56  0  0  1]\n",
      " [ 0 57  0  1]\n",
      " [ 0  0 80  0]\n",
      " [ 3  4  0 91]]\n",
      "              precision    recall  f1-score   support\n",
      "\n",
      "           0       0.95      0.98      0.97        57\n",
      "           1       0.93      0.98      0.96        58\n",
      "           2       1.00      1.00      1.00        80\n",
      "           3       0.98      0.93      0.95        98\n",
      "\n",
      "    accuracy                           0.97       293\n",
      "   macro avg       0.97      0.97      0.97       293\n",
      "weighted avg       0.97      0.97      0.97       293\n",
      "\n"
     ]
    }
   ],
   "source": [
    "# Apply KNN\n",
    "knn = KNeighborsClassifier(n_neighbors=1)  # sqrt(1465 n), pick an odd number so round down\n",
    "knn.fit(X_train, y_train)\n",
    "\n",
    "# Predict using the test data\n",
    "y_pred = knn.predict(X_test)\n",
    "\n",
    "# Evaluate the model\n",
    "print(confusion_matrix(y_test, y_pred))\n",
    "print(classification_report(y_test, y_pred))\n"
   ]
  },
  {
   "cell_type": "code",
   "execution_count": null,
   "id": "3333acc8-a8ed-458c-9ed9-78b8303d588c",
   "metadata": {},
   "outputs": [],
   "source": []
  }
 ],
 "metadata": {
  "kernelspec": {
   "display_name": "Python 3 (ipykernel)",
   "language": "python",
   "name": "python3"
  },
  "language_info": {
   "codemirror_mode": {
    "name": "ipython",
    "version": 3
   },
   "file_extension": ".py",
   "mimetype": "text/x-python",
   "name": "python",
   "nbconvert_exporter": "python",
   "pygments_lexer": "ipython3",
   "version": "3.11.4"
  }
 },
 "nbformat": 4,
 "nbformat_minor": 5
}
